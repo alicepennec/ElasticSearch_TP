{
 "cells": [
  {
   "cell_type": "markdown",
   "metadata": {},
   "source": [
    "# Elastic Stack\n",
    "L'objectif du TP est de continuer la prise en main la stack Elastic ( elasticsearch & Kibana) en mode local."
   ]
  },
  {
   "cell_type": "markdown",
   "metadata": {},
   "source": [
    "##  1- elasticsearch\n",
    "Utiliser l'environnement déja mis en place lors du TP1 et utilisé lors du TP2\n",
    "\n",
    "Vérifier que l'environnement est bien lancé :\n",
    "\n",
    "* L'url d'elasticsearch:  http://localhost:9200\n",
    "* L'url cerebro:  http://localhost:9000\n",
    "* L'url de Kibana : http://localhost:5601"
   ]
  },
  {
   "cell_type": "code",
   "execution_count": null,
   "metadata": {},
   "outputs": [],
   "source": []
  },
  {
   "cell_type": "markdown",
   "metadata": {},
   "source": [
    "## 2- Créer et gérer votre 2éme index\n",
    "\n",
    "* créer un index (vide): myindex\n",
    "\n",
    "\n"
   ]
  },
  {
   "cell_type": "code",
   "execution_count": null,
   "metadata": {},
   "outputs": [],
   "source": [
    "#TBD\n",
    "curl -X PUT \"localhost:9200/myindex\""
   ]
  },
  {
   "cell_type": "markdown",
   "metadata": {},
   "source": [
    "* Ajouter à l'index myindex, le document suivant:\n",
    "\n",
    "{ \n",
    "\n",
    "\"first_name\" : \"Jean\",\n",
    "\n",
    "\"last_name\" : \"Dupont\",\n",
    "\n",
    "\"age\" :25,\n",
    "\n",
    "\"about\" :\"I'm a data engineer\",\n",
    "\n",
    "\"interests\": [ \"sports\", \"music\" ]\n",
    "\n",
    "}\n"
   ]
  },
  {
   "cell_type": "markdown",
   "metadata": {},
   "source": [
    "=> Ajouter le via un webservice REST ou via une commande curl"
   ]
  },
  {
   "cell_type": "code",
   "execution_count": null,
   "metadata": {},
   "outputs": [],
   "source": [
    "#TBD\n",
    "curl -X PUT \"http://localhost:9200/myindex/_doc/1\" -H \"Content-Type: application/json\" -d \"{\\\"first_name\\\":\\\"Jean\\\",\\\"last_name\\\":\\\"Dupont\\\",\\\"age\\\":25,\\\"about\\\":\\\"I'm a data engineer\\\",\\\"interest\\\":\\\"sports\\\"}\""
   ]
  },
  {
   "cell_type": "markdown",
   "metadata": {},
   "source": [
    "* Afficher la liste des index de votre cluster:\n",
    "    \n"
   ]
  },
  {
   "cell_type": "code",
   "execution_count": null,
   "metadata": {},
   "outputs": [],
   "source": [
    "#TBD\n",
    "curl -X GET \"localhost:9200/myindex/_search\"\n",
    "\n",
    "# Résultat\n",
    "{\n",
    "  \"took\": 3,\n",
    "  \"timed_out\": false,\n",
    "  \"_shards\": {\n",
    "    \"total\": 1,\n",
    "    \"successful\": 1,\n",
    "    \"skipped\": 0,\n",
    "    \"failed\": 0\n",
    "  },\n",
    "  \"hits\": {\n",
    "    \"total\": {\n",
    "      \"value\": 1,\n",
    "      \"relation\": \"eq\"\n",
    "    },\n",
    "    \"max_score\": 1,\n",
    "    \"hits\": [\n",
    "      {\n",
    "        \"_index\": \"myindex\",\n",
    "        \"_id\": \"1\",\n",
    "        \"_score\": 1,\n",
    "        \"_source\": {\n",
    "          \"first_name\": \"Jean\",\n",
    "          \"last_name\": \"Dupont\",\n",
    "          \"age\": 25,\n",
    "          \"about\": \"I'm a data engineer\",\n",
    "          \"interests\": [\n",
    "            \"sports\"\n",
    "          ]\n",
    "        }\n",
    "      }\n",
    "    ]\n",
    "  }\n",
    "}"
   ]
  },
  {
   "cell_type": "markdown",
   "metadata": {},
   "source": [
    "* Supprimer l'index myindex \n",
    "\n",
    "\n"
   ]
  },
  {
   "cell_type": "code",
   "execution_count": null,
   "metadata": {},
   "outputs": [],
   "source": [
    "#TBD\n",
    "curl -X DELETE \"http://localhost:9200/myindex\"\n",
    "\n",
    "# Résultat\n",
    "{\n",
    "  \"acknowledged\": true\n",
    "}"
   ]
  },
  {
   "cell_type": "markdown",
   "metadata": {},
   "source": [
    "* Charger  un index \"movies2\" , en utilisant l'API REST d'elasticsearch, le fichier de mapping mapping.json (fourni), insérer ensuite les données de movies2.json (fourni)"
   ]
  },
  {
   "cell_type": "code",
   "execution_count": null,
   "metadata": {},
   "outputs": [],
   "source": [
    "#TBD\n",
    "curl -X PUT http://localhost:9200/movies2 -H \"Content-Type: application/json\" -d @mapping.json\n",
    "curl -X POST localhost:9200/movies2/_bulk -H \"Content-Type: application/json\" --data-binary @movies_elastic2.json\n"
   ]
  },
  {
   "cell_type": "markdown",
   "metadata": {},
   "source": [
    "Vérifier le contenu inséré sur l'interface cerebro (ou aussi via l'URL elasticsearch :\n",
    "\n",
    "http://localhost:9200/movies2/_mappings\n",
    "\n",
    "http://localhost:9200/movies2/?pretty\n",
    "\n",
    "http://localhost:9200/movies2/_search\n",
    "\n",
    "http://localhost:9200/_cat/indices?v\n",
    "\n",
    "\n"
   ]
  },
  {
   "cell_type": "code",
   "execution_count": null,
   "metadata": {},
   "outputs": [],
   "source": [
    "curl -GET http://localhost:9200/movies2/_search?pretty\n",
    "\n",
    " {\n",
    "        \"_index\" : \"movies2\",\n",
    "        \"_id\" : \"10\",\n",
    "        \"_score\" : 1.0,\n",
    "        \"_source\" : {\n",
    "          \"fields\" : {\n",
    "            \"directors\" : [\n",
    "              \"Michael Bay\"\n",
    "            ],\n",
    "            \"release_date\" : \"2014-06-25T00:00:00Z\",\n",
    "            \"genres\" : [\n",
    "              \"Action\",\n",
    "              \"Adventure\",\n",
    "              \"Sci-Fi\"\n",
    "            ],\n",
    "            \"image_url\" : \"http://ia.media-imdb.com/images/M/MV5BMTQyMDA5Nzg0Nl5BMl5BanBnXkFtZTgwNzA4NDcxMDE@._V1_SX400_.jpg\",\n",
    "            \"plot\" : \"A mechanic and his daughter make a discovery that brings down Autobots and Decepticons - and a paranoid government official - on them.\",\n",
    "            \"title\" : \"Transformers: Age of Extinction\",\n",
    "            \"rank\" : 10,\n",
    "            \"year\" : 2014,\n",
    "            \"actors\" : [\n",
    "              \"Mark Wahlberg\",\n",
    "              \"Nicola Peltz\",\n",
    "              \"Jack Reynor\"\n",
    "            ]\n",
    "          },\n",
    "          \"id\" : \"tt2109248\",\n",
    "          \"type\" : \"add\"\n",
    "        }\n",
    " }"
   ]
  },
  {
   "cell_type": "markdown",
   "metadata": {},
   "source": [
    "## 3- Visualiser les résultats avec Kibana\n",
    "\n",
    "Télécharger et lancer kibana : https://www.elastic.co/fr/downloads/kibana\n",
    "\n",
    "Vérifier que c'est bien démarré via l'URL:  http://localhost:5601\n",
    "RQ: Analyser les diff paramètres dans le fichier de conf: config/kibana.yml\n",
    "\n",
    "Charger votre index Elasticsearch et contruire un Dashboard avec 3 Graphes pertinents de votre choix"
   ]
  },
  {
   "cell_type": "code",
   "execution_count": null,
   "metadata": {},
   "outputs": [],
   "source": [
    "cf doc joint au rendu sur Simplonline"
   ]
  }
 ],
 "metadata": {
  "kernelspec": {
   "display_name": "Python 3 (ipykernel)",
   "language": "python",
   "name": "python3"
  },
  "language_info": {
   "codemirror_mode": {
    "name": "ipython",
    "version": 3
   },
   "file_extension": ".py",
   "mimetype": "text/x-python",
   "name": "python",
   "nbconvert_exporter": "python",
   "pygments_lexer": "ipython3",
   "version": "3.9.12"
  },
  "toc": {
   "base_numbering": 1,
   "nav_menu": {},
   "number_sections": true,
   "sideBar": true,
   "skip_h1_title": true,
   "title_cell": "Table of Contents",
   "title_sidebar": "Contents",
   "toc_cell": false,
   "toc_position": {
    "height": "calc(100% - 180px)",
    "left": "10px",
    "top": "150px",
    "width": "165px"
   },
   "toc_section_display": true,
   "toc_window_display": true
  }
 },
 "nbformat": 4,
 "nbformat_minor": 2
}
